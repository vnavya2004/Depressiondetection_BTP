{
  "cells": [
    {
      "cell_type": "markdown",
      "metadata": {
        "id": "view-in-github",
        "colab_type": "text"
      },
      "source": [
        "<a href=\"https://colab.research.google.com/github/vnavya2004/Depressiondetection_BTP/blob/main/GraphAutoEncoder_Example_(1).ipynb\" target=\"_parent\"><img src=\"https://colab.research.google.com/assets/colab-badge.svg\" alt=\"Open In Colab\"/></a>"
      ]
    },
    {
      "cell_type": "code",
      "execution_count": null,
      "id": "ad11072b",
      "metadata": {
        "id": "ad11072b"
      },
      "outputs": [],
      "source": [
        "import numpy as np"
      ]
    },
    {
      "cell_type": "code",
      "execution_count": null,
      "id": "b75f93cc",
      "metadata": {
        "id": "b75f93cc"
      },
      "outputs": [],
      "source": [
        "\"\"\"\n",
        "Number of data points: 300\n",
        "Number of classes: 20\n",
        "\"\"\"\n",
        "\n",
        "# INPUTS\n",
        "W = np.ones((300, 200))\n",
        "X = np.ones((300, 200))\n",
        "\n",
        "# OUTPUT\n",
        "Y = np.random.rand(300, 20)"
      ]
    },
    {
      "cell_type": "code",
      "execution_count": null,
      "id": "42d53460",
      "metadata": {
        "id": "42d53460"
      },
      "outputs": [],
      "source": [
        "# Train test split\n",
        "W_train, X_train, Y_train = W[:200], X[:200], Y[:200]\n",
        "W_test, X_test, Y_test = W[200:], X[200:], Y[200:]"
      ]
    },
    {
      "cell_type": "code",
      "source": [
        "!pip install spectral"
      ],
      "metadata": {
        "colab": {
          "base_uri": "https://localhost:8080/"
        },
        "id": "WxzVPszfE2g4",
        "outputId": "b6aa029e-510e-4827-9691-3306b54cea06"
      },
      "id": "WxzVPszfE2g4",
      "execution_count": null,
      "outputs": [
        {
          "output_type": "stream",
          "name": "stdout",
          "text": [
            "Collecting spectral\n",
            "  Downloading spectral-0.23.1-py3-none-any.whl (212 kB)\n",
            "\u001b[2K     \u001b[90m━━━━━━━━━━━━━━━━━━━━━━━━━━━━━━━━━━━━━━━━\u001b[0m \u001b[32m212.9/212.9 kB\u001b[0m \u001b[31m2.1 MB/s\u001b[0m eta \u001b[36m0:00:00\u001b[0m\n",
            "\u001b[?25hRequirement already satisfied: numpy in /usr/local/lib/python3.10/dist-packages (from spectral) (1.23.5)\n",
            "Installing collected packages: spectral\n",
            "Successfully installed spectral-0.23.1\n"
          ]
        }
      ]
    },
    {
      "cell_type": "code",
      "source": [
        "!pip install spektral"
      ],
      "metadata": {
        "colab": {
          "base_uri": "https://localhost:8080/"
        },
        "id": "IDXWDRVTFNwM",
        "outputId": "d19bcd25-9df0-4943-f79a-081b5bea81a7"
      },
      "id": "IDXWDRVTFNwM",
      "execution_count": null,
      "outputs": [
        {
          "output_type": "stream",
          "name": "stdout",
          "text": [
            "Collecting spektral\n",
            "  Downloading spektral-1.3.1-py3-none-any.whl (140 kB)\n",
            "\u001b[2K     \u001b[90m━━━━━━━━━━━━━━━━━━━━━━━━━━━━━━━━━━━━━━━━\u001b[0m \u001b[32m140.1/140.1 kB\u001b[0m \u001b[31m1.7 MB/s\u001b[0m eta \u001b[36m0:00:00\u001b[0m\n",
            "\u001b[?25hRequirement already satisfied: joblib in /usr/local/lib/python3.10/dist-packages (from spektral) (1.3.2)\n",
            "Requirement already satisfied: lxml in /usr/local/lib/python3.10/dist-packages (from spektral) (4.9.4)\n",
            "Requirement already satisfied: networkx in /usr/local/lib/python3.10/dist-packages (from spektral) (3.2.1)\n",
            "Requirement already satisfied: numpy in /usr/local/lib/python3.10/dist-packages (from spektral) (1.23.5)\n",
            "Requirement already satisfied: pandas in /usr/local/lib/python3.10/dist-packages (from spektral) (1.5.3)\n",
            "Requirement already satisfied: requests in /usr/local/lib/python3.10/dist-packages (from spektral) (2.31.0)\n",
            "Requirement already satisfied: scikit-learn in /usr/local/lib/python3.10/dist-packages (from spektral) (1.2.2)\n",
            "Requirement already satisfied: scipy in /usr/local/lib/python3.10/dist-packages (from spektral) (1.11.4)\n",
            "Requirement already satisfied: tqdm in /usr/local/lib/python3.10/dist-packages (from spektral) (4.66.1)\n",
            "Requirement already satisfied: tensorflow>=2.2.0 in /usr/local/lib/python3.10/dist-packages (from spektral) (2.15.0)\n",
            "Requirement already satisfied: absl-py>=1.0.0 in /usr/local/lib/python3.10/dist-packages (from tensorflow>=2.2.0->spektral) (1.4.0)\n",
            "Requirement already satisfied: astunparse>=1.6.0 in /usr/local/lib/python3.10/dist-packages (from tensorflow>=2.2.0->spektral) (1.6.3)\n",
            "Requirement already satisfied: flatbuffers>=23.5.26 in /usr/local/lib/python3.10/dist-packages (from tensorflow>=2.2.0->spektral) (23.5.26)\n",
            "Requirement already satisfied: gast!=0.5.0,!=0.5.1,!=0.5.2,>=0.2.1 in /usr/local/lib/python3.10/dist-packages (from tensorflow>=2.2.0->spektral) (0.5.4)\n",
            "Requirement already satisfied: google-pasta>=0.1.1 in /usr/local/lib/python3.10/dist-packages (from tensorflow>=2.2.0->spektral) (0.2.0)\n",
            "Requirement already satisfied: h5py>=2.9.0 in /usr/local/lib/python3.10/dist-packages (from tensorflow>=2.2.0->spektral) (3.9.0)\n",
            "Requirement already satisfied: libclang>=13.0.0 in /usr/local/lib/python3.10/dist-packages (from tensorflow>=2.2.0->spektral) (16.0.6)\n",
            "Requirement already satisfied: ml-dtypes~=0.2.0 in /usr/local/lib/python3.10/dist-packages (from tensorflow>=2.2.0->spektral) (0.2.0)\n",
            "Requirement already satisfied: opt-einsum>=2.3.2 in /usr/local/lib/python3.10/dist-packages (from tensorflow>=2.2.0->spektral) (3.3.0)\n",
            "Requirement already satisfied: packaging in /usr/local/lib/python3.10/dist-packages (from tensorflow>=2.2.0->spektral) (23.2)\n",
            "Requirement already satisfied: protobuf!=4.21.0,!=4.21.1,!=4.21.2,!=4.21.3,!=4.21.4,!=4.21.5,<5.0.0dev,>=3.20.3 in /usr/local/lib/python3.10/dist-packages (from tensorflow>=2.2.0->spektral) (3.20.3)\n",
            "Requirement already satisfied: setuptools in /usr/local/lib/python3.10/dist-packages (from tensorflow>=2.2.0->spektral) (67.7.2)\n",
            "Requirement already satisfied: six>=1.12.0 in /usr/local/lib/python3.10/dist-packages (from tensorflow>=2.2.0->spektral) (1.16.0)\n",
            "Requirement already satisfied: termcolor>=1.1.0 in /usr/local/lib/python3.10/dist-packages (from tensorflow>=2.2.0->spektral) (2.4.0)\n",
            "Requirement already satisfied: typing-extensions>=3.6.6 in /usr/local/lib/python3.10/dist-packages (from tensorflow>=2.2.0->spektral) (4.9.0)\n",
            "Requirement already satisfied: wrapt<1.15,>=1.11.0 in /usr/local/lib/python3.10/dist-packages (from tensorflow>=2.2.0->spektral) (1.14.1)\n",
            "Requirement already satisfied: tensorflow-io-gcs-filesystem>=0.23.1 in /usr/local/lib/python3.10/dist-packages (from tensorflow>=2.2.0->spektral) (0.36.0)\n",
            "Requirement already satisfied: grpcio<2.0,>=1.24.3 in /usr/local/lib/python3.10/dist-packages (from tensorflow>=2.2.0->spektral) (1.60.1)\n",
            "Requirement already satisfied: tensorboard<2.16,>=2.15 in /usr/local/lib/python3.10/dist-packages (from tensorflow>=2.2.0->spektral) (2.15.1)\n",
            "Requirement already satisfied: tensorflow-estimator<2.16,>=2.15.0 in /usr/local/lib/python3.10/dist-packages (from tensorflow>=2.2.0->spektral) (2.15.0)\n",
            "Requirement already satisfied: keras<2.16,>=2.15.0 in /usr/local/lib/python3.10/dist-packages (from tensorflow>=2.2.0->spektral) (2.15.0)\n",
            "Requirement already satisfied: python-dateutil>=2.8.1 in /usr/local/lib/python3.10/dist-packages (from pandas->spektral) (2.8.2)\n",
            "Requirement already satisfied: pytz>=2020.1 in /usr/local/lib/python3.10/dist-packages (from pandas->spektral) (2023.4)\n",
            "Requirement already satisfied: charset-normalizer<4,>=2 in /usr/local/lib/python3.10/dist-packages (from requests->spektral) (3.3.2)\n",
            "Requirement already satisfied: idna<4,>=2.5 in /usr/local/lib/python3.10/dist-packages (from requests->spektral) (3.6)\n",
            "Requirement already satisfied: urllib3<3,>=1.21.1 in /usr/local/lib/python3.10/dist-packages (from requests->spektral) (2.0.7)\n",
            "Requirement already satisfied: certifi>=2017.4.17 in /usr/local/lib/python3.10/dist-packages (from requests->spektral) (2024.2.2)\n",
            "Requirement already satisfied: threadpoolctl>=2.0.0 in /usr/local/lib/python3.10/dist-packages (from scikit-learn->spektral) (3.2.0)\n",
            "Requirement already satisfied: wheel<1.0,>=0.23.0 in /usr/local/lib/python3.10/dist-packages (from astunparse>=1.6.0->tensorflow>=2.2.0->spektral) (0.42.0)\n",
            "Requirement already satisfied: google-auth<3,>=1.6.3 in /usr/local/lib/python3.10/dist-packages (from tensorboard<2.16,>=2.15->tensorflow>=2.2.0->spektral) (2.17.3)\n",
            "Requirement already satisfied: google-auth-oauthlib<2,>=0.5 in /usr/local/lib/python3.10/dist-packages (from tensorboard<2.16,>=2.15->tensorflow>=2.2.0->spektral) (1.2.0)\n",
            "Requirement already satisfied: markdown>=2.6.8 in /usr/local/lib/python3.10/dist-packages (from tensorboard<2.16,>=2.15->tensorflow>=2.2.0->spektral) (3.5.2)\n",
            "Requirement already satisfied: tensorboard-data-server<0.8.0,>=0.7.0 in /usr/local/lib/python3.10/dist-packages (from tensorboard<2.16,>=2.15->tensorflow>=2.2.0->spektral) (0.7.2)\n",
            "Requirement already satisfied: werkzeug>=1.0.1 in /usr/local/lib/python3.10/dist-packages (from tensorboard<2.16,>=2.15->tensorflow>=2.2.0->spektral) (3.0.1)\n",
            "Requirement already satisfied: cachetools<6.0,>=2.0.0 in /usr/local/lib/python3.10/dist-packages (from google-auth<3,>=1.6.3->tensorboard<2.16,>=2.15->tensorflow>=2.2.0->spektral) (5.3.2)\n",
            "Requirement already satisfied: pyasn1-modules>=0.2.1 in /usr/local/lib/python3.10/dist-packages (from google-auth<3,>=1.6.3->tensorboard<2.16,>=2.15->tensorflow>=2.2.0->spektral) (0.3.0)\n",
            "Requirement already satisfied: rsa<5,>=3.1.4 in /usr/local/lib/python3.10/dist-packages (from google-auth<3,>=1.6.3->tensorboard<2.16,>=2.15->tensorflow>=2.2.0->spektral) (4.9)\n",
            "Requirement already satisfied: requests-oauthlib>=0.7.0 in /usr/local/lib/python3.10/dist-packages (from google-auth-oauthlib<2,>=0.5->tensorboard<2.16,>=2.15->tensorflow>=2.2.0->spektral) (1.3.1)\n",
            "Requirement already satisfied: MarkupSafe>=2.1.1 in /usr/local/lib/python3.10/dist-packages (from werkzeug>=1.0.1->tensorboard<2.16,>=2.15->tensorflow>=2.2.0->spektral) (2.1.5)\n",
            "Requirement already satisfied: pyasn1<0.6.0,>=0.4.6 in /usr/local/lib/python3.10/dist-packages (from pyasn1-modules>=0.2.1->google-auth<3,>=1.6.3->tensorboard<2.16,>=2.15->tensorflow>=2.2.0->spektral) (0.5.1)\n",
            "Requirement already satisfied: oauthlib>=3.0.0 in /usr/local/lib/python3.10/dist-packages (from requests-oauthlib>=0.7.0->google-auth-oauthlib<2,>=0.5->tensorboard<2.16,>=2.15->tensorflow>=2.2.0->spektral) (3.2.2)\n",
            "Installing collected packages: spektral\n",
            "Successfully installed spektral-1.3.1\n"
          ]
        }
      ]
    },
    {
      "cell_type": "code",
      "execution_count": null,
      "id": "87501d8e",
      "metadata": {
        "id": "87501d8e"
      },
      "outputs": [],
      "source": [
        "from spektral.layers import GraphSageConv\n",
        "import tensorflow as tf\n",
        "\n",
        "from tensorflow.keras.layers import Dense, Dropout, Input, Concatenate\n",
        "from tensorflow.keras.models import Model"
      ]
    },
    {
      "cell_type": "code",
      "execution_count": null,
      "id": "bf9b3364",
      "metadata": {
        "id": "bf9b3364"
      },
      "outputs": [],
      "source": [
        "batch_size = 32\n",
        "graph_embedding_size = 300"
      ]
    },
    {
      "cell_type": "code",
      "execution_count": null,
      "id": "b2af1778",
      "metadata": {
        "colab": {
          "base_uri": "https://localhost:8080/"
        },
        "id": "b2af1778",
        "outputId": "dbde545c-d285-4c73-db10-29d5517bf81b"
      },
      "outputs": [
        {
          "output_type": "stream",
          "name": "stdout",
          "text": [
            "Inputs: [TensorShape([None, 200]), TensorShape([None, 200]), TensorShape([None, 64])]\n",
            "Outputs: [TensorShape([None, 20]), TensorShape([None, None])] \n",
            "\n",
            "Model: \"model\"\n",
            "__________________________________________________________________________________________________\n",
            " Layer (type)                Output Shape                 Param #   Connected to                  \n",
            "==================================================================================================\n",
            " W (InputLayer)              [(None, 200)]                0         []                            \n",
            "                                                                                                  \n",
            " X (InputLayer)              [(None, 200)]                0         []                            \n",
            "                                                                                                  \n",
            " concatenate (Concatenate)   (None, 200)                  0         ['W[0][0]',                   \n",
            "                                                                     'X[0][0]']                   \n",
            "                                                                                                  \n",
            " sparse_matrix (InputLayer)  [(None, 64)]                 0         []                            \n",
            "                                                                                                  \n",
            " graph_sage_conv (GraphSage  (None, 300)                  120300    ['concatenate[0][0]',         \n",
            " Conv)                                                               'sparse_matrix[0][0]']       \n",
            "                                                                                                  \n",
            " tf.__operators__.getitem (  (None, 300)                  0         ['graph_sage_conv[0][0]']     \n",
            " SlicingOpLambda)                                                                                 \n",
            "                                                                                                  \n",
            " tf.__operators__.getitem_1  (None, 300)                  0         ['graph_sage_conv[0][0]']     \n",
            "  (SlicingOpLambda)                                                                               \n",
            "                                                                                                  \n",
            " concatenate_1 (Concatenate  (None, 600)                  0         ['tf.__operators__.getitem[0][\n",
            " )                                                                  0]',                          \n",
            "                                                                     'tf.__operators__.getitem_1[0\n",
            "                                                                    ][0]']                        \n",
            "                                                                                                  \n",
            " tf.compat.v1.transpose (TF  (300, None)                  0         ['graph_sage_conv[0][0]']     \n",
            " OpLambda)                                                                                        \n",
            "                                                                                                  \n",
            " dropout (Dropout)           (None, 600)                  0         ['concatenate_1[0][0]']       \n",
            "                                                                                                  \n",
            " tf.linalg.matmul (TFOpLamb  (None, None)                 0         ['graph_sage_conv[0][0]',     \n",
            " da)                                                                 'tf.compat.v1.transpose[0][0]\n",
            "                                                                    ']                            \n",
            "                                                                                                  \n",
            " dense (Dense)               (None, 20)                   12020     ['dropout[0][0]']             \n",
            "                                                                                                  \n",
            " tf.math.sigmoid (TFOpLambd  (None, None)                 0         ['tf.linalg.matmul[0][0]']    \n",
            " a)                                                                                               \n",
            "                                                                                                  \n",
            "==================================================================================================\n",
            "Total params: 132320 (516.88 KB)\n",
            "Trainable params: 132320 (516.88 KB)\n",
            "Non-trainable params: 0 (0.00 Byte)\n",
            "__________________________________________________________________________________________________\n",
            "None\n"
          ]
        }
      ],
      "source": [
        "\"\"\"\n",
        "GAE (Graph Auto Encoder) General Idea\n",
        "\n",
        "GAE = Encoder + Decoder\n",
        "Encoder: GCN layer (Can use more than 1 GCN layers)\n",
        "Decoder: Function which reconstructs the adjacency matrix\n",
        "\n",
        "Initial_Node_Embedding (N) + Adjacency_Matrix (A) -> Encoder -> Updated_Node_Embedding (N')\n",
        "Updated_Node_Embedding (N') -> Decoder -> Reconstructed_Adjacency_Matrix (A')\n",
        "\n",
        "Objective: A and A' should be identical\n",
        "\n",
        "In the given example:\n",
        "Encoder: GraphSAGE\n",
        "Decoder: sigmoid(N' * transpose(N'))\n",
        "Loss: |A-A'|\n",
        "\n",
        "For classification based task, we will have 2 loss functions:\n",
        "1. Categorical Cross Entropy (Classification)\n",
        "2. Norm (GAE)\n",
        "\n",
        "\"\"\"\n",
        "\n",
        "# GAE Loss Function\n",
        "def custom_gae_loss(A_true, A_pred):\n",
        "    return tf.norm(A_true - A_pred)\n",
        "\n",
        "\n",
        "def myModel():\n",
        "    inputs_W = Input(shape=(200), name='W') # [32 X 200]\n",
        "    inputs_X = Input(shape=(200), name='X') # [32 X 200]\n",
        "\n",
        "    inputs_sparse = Input(shape=(2*batch_size,), name='sparse_matrix', sparse=True, dtype=tf.float64)  # [64 X 64]\n",
        "\n",
        "    # GraphSage\n",
        "    inpEmbedding = Concatenate(axis=0)([inputs_W, inputs_X]) # [64 X 200]\n",
        "    outEmbedding = GraphSageConv(channels=graph_embedding_size)([inpEmbedding, inputs_sparse]) # [64 X 300]\n",
        "\n",
        "    # Reconstructed Adjacency Matrix\n",
        "    A_reconstructed =  tf.linalg.matmul(outEmbedding,tf.transpose(outEmbedding)) # [64 X 64]\n",
        "    A_reconstructed = tf.math.sigmoid(A_reconstructed) # [64 X 64]\n",
        "\n",
        "    W_modified = outEmbedding[0:batch_size] # [32 X 300]\n",
        "    X_modified = outEmbedding[batch_size:2*batch_size] # [32 X 300]\n",
        "\n",
        "    # Final Layers\n",
        "    f = Concatenate(axis=1)([W_modified, X_modified]) # [32 X 600]\n",
        "    dropout = Dropout(0.5)(f)\n",
        "    Softmax = Dense(20, activation=\"softmax\")(dropout)\n",
        "    model = Model(inputs=[\n",
        "        inputs_W,\n",
        "        inputs_X,\n",
        "        inputs_sparse,\n",
        "    ], outputs=[Softmax, A_reconstructed])\n",
        "\n",
        "    model.compile(optimizer='adam', loss=['categorical_crossentropy', custom_gae_loss])\n",
        "\n",
        "    return model\n",
        "\n",
        "model = myModel()\n",
        "\n",
        "print(\"Inputs:\",[k.shape for k in model.inputs])\n",
        "print(\"Outputs:\", [k.shape for k in model.outputs], \"\\n\")\n",
        "\n",
        "print(model.summary())\n",
        "\n",
        "del model"
      ]
    },
    {
      "cell_type": "code",
      "execution_count": null,
      "id": "fa33b11e",
      "metadata": {
        "id": "fa33b11e"
      },
      "outputs": [],
      "source": [
        "def cos_sim(A, B):\n",
        "    return np.dot(A,B)/(np.linalg.norm(A)*np.linalg.norm(B))\n",
        "\n",
        "def getIndicesAndValues(batch_W, batch_X):\n",
        "    indices = []\n",
        "    values = []\n",
        "\n",
        "    \"\"\"\n",
        "    In the constructed graph\n",
        "\n",
        "    [0:batch_size] => W\n",
        "    [batch_size:] => X\n",
        "\n",
        "    Ex:\n",
        "    Batch Size: 32\n",
        "\n",
        "    0: Img1\n",
        "    1: Img2\n",
        "    .\n",
        "    .\n",
        "\n",
        "    31: Img32\n",
        "    32: Text1\n",
        "    33: Text2\n",
        "    .\n",
        "    .\n",
        "    63: Text32\n",
        "\n",
        "    \"\"\"\n",
        "\n",
        "    # W <-> W edges\n",
        "    for i in range(batch_size):\n",
        "        for j in range(batch_size):\n",
        "            # Some Criterion\n",
        "            sim_score = cos_sim(batch_W[i],batch_W[j])\n",
        "            if sim_score >= 0.5:\n",
        "                indices.append([i,j])\n",
        "                values.append(sim_score)\n",
        "\n",
        "    # X <-> X edges\n",
        "    for i in range(batch_size):\n",
        "        for j in range(batch_size):\n",
        "            # Some Criterion\n",
        "            sim_score = cos_sim(batch_X[i],batch_X[j])\n",
        "            if sim_score >= 0.5:\n",
        "                indices.append([i+batch_size,j+batch_size])\n",
        "                values.append(sim_score)\n",
        "\n",
        "    \"\"\"\n",
        "    # For W <-> X edges, indices would be of the form [i, j+batch_size]\n",
        "    for i in range(batch_size):\n",
        "        for j in range(batch_size):\n",
        "            # Some Criterion\n",
        "            if criterion(batch_X[i],batch_X[j]) is True:\n",
        "                indices.append([i,j+batch_size])\n",
        "                values.append(edge_weight)\n",
        "    \"\"\"\n",
        "\n",
        "    indices = np.array(indices)\n",
        "    values = np.array(values)\n",
        "\n",
        "    return indices, values\n",
        "\n",
        "\n",
        "def getMatrix(indices, values, dim):\n",
        "    a = np.zeros((dim,dim))\n",
        "    for c,(i,j) in enumerate(indices):\n",
        "        a[i][j] = values[c]\n",
        "    return a"
      ]
    },
    {
      "cell_type": "code",
      "execution_count": null,
      "id": "c2d27529",
      "metadata": {
        "colab": {
          "base_uri": "https://localhost:8080/"
        },
        "id": "c2d27529",
        "outputId": "73579ce3-2087-4f43-abcb-a33053486eed"
      },
      "outputs": [
        {
          "output_type": "stream",
          "name": "stdout",
          "text": [
            "Inputs:\n",
            "(32, 200)\n",
            "(32, 200)\n",
            "(64, 64)\n",
            "\n",
            "Outputs:\n",
            "(32, 20)\n",
            "(64, 64)\n"
          ]
        }
      ],
      "source": [
        "def datagenerator(W, X, Y):\n",
        "    i = 0\n",
        "    while True:\n",
        "        if i + batch_size <= len(W):\n",
        "\n",
        "            inp_W = W[i:i+batch_size]\n",
        "            inp_X = X[i:i+batch_size]\n",
        "\n",
        "            # Get Indices and Values\n",
        "            indices, values = getIndicesAndValues(inp_W, inp_X)\n",
        "\n",
        "            # Construct Sparse Matrix for GraphSAGE\n",
        "            inp_sparse = tf.SparseTensor(\n",
        "                            indices = indices,\n",
        "                            values = values,\n",
        "                            dense_shape = (batch_size*2,batch_size*2)\n",
        "                        )\n",
        "\n",
        "            out_Y = Y[i:i+batch_size]\n",
        "\n",
        "            # Construct \"Normal\" Adjacency Matrix (for GAE Loss function)\n",
        "            A = getMatrix(indices, values, batch_size*2)\n",
        "\n",
        "            yield [inp_W, inp_X, inp_sparse], [out_Y, A]\n",
        "            i+=batch_size\n",
        "        else:\n",
        "            i= 0\n",
        "            continue\n",
        "\n",
        "x = next(datagenerator(W, X, Y))\n",
        "\n",
        "print(\"Inputs:\")\n",
        "for a in x[0]:\n",
        "    print(a.shape)\n",
        "\n",
        "print(\"\\nOutputs:\")\n",
        "for a in x[1]:\n",
        "    print(a.shape)\n",
        "\n",
        "del x"
      ]
    },
    {
      "cell_type": "code",
      "execution_count": null,
      "id": "c9262841",
      "metadata": {
        "colab": {
          "base_uri": "https://localhost:8080/"
        },
        "id": "c9262841",
        "outputId": "4f3f048a-b187-470f-cfa7-53251eb9f217"
      },
      "outputs": [
        {
          "output_type": "stream",
          "name": "stdout",
          "text": [
            "Epoch: 1\n",
            "6/6 [==============================] - 2s 30ms/step - loss: 65.1751 - dense_1_loss: 29.9234 - tf.math.sigmoid_1_loss: 35.2516\n",
            "3/3 [==============================] - 0s 35ms/step\n",
            "Epoch: 2\n",
            "6/6 [==============================] - 0s 38ms/step - loss: 65.1719 - dense_1_loss: 29.9203 - tf.math.sigmoid_1_loss: 35.2516\n",
            "3/3 [==============================] - 0s 33ms/step\n",
            "Epoch: 3\n",
            "6/6 [==============================] - 0s 38ms/step - loss: 65.1736 - dense_1_loss: 29.9219 - tf.math.sigmoid_1_loss: 35.2516\n",
            "3/3 [==============================] - 0s 33ms/step\n",
            "Epoch: 4\n",
            "6/6 [==============================] - 0s 41ms/step - loss: 65.1724 - dense_1_loss: 29.9207 - tf.math.sigmoid_1_loss: 35.2516\n",
            "3/3 [==============================] - 0s 58ms/step\n",
            "Epoch: 5\n",
            "6/6 [==============================] - 0s 67ms/step - loss: 65.1645 - dense_1_loss: 29.9129 - tf.math.sigmoid_1_loss: 35.2516\n",
            "3/3 [==============================] - 0s 61ms/step\n"
          ]
        }
      ],
      "source": [
        "model = myModel()\n",
        "\n",
        "num_epochs = 5\n",
        "\n",
        "for e in range(num_epochs):\n",
        "    print(\"Epoch:\",e+1)\n",
        "\n",
        "    history = model.fit(x=datagenerator(W_train, X_train, Y_train),\n",
        "                        steps_per_epoch=int(len(W_train) / batch_size),\n",
        "                        epochs=1,\n",
        "                        verbose=1\n",
        "                        )\n",
        "\n",
        "    y_pred = model.predict(x = datagenerator(W_test, X_test, Y_test),\n",
        "                          steps=int(len(W_test) / batch_size)\n",
        "                          )\n",
        "\n",
        "    # Code For evaluation...."
      ]
    }
  ],
  "metadata": {
    "kernelspec": {
      "display_name": "Python 3 (ipykernel)",
      "language": "python",
      "name": "python3"
    },
    "language_info": {
      "codemirror_mode": {
        "name": "ipython",
        "version": 3
      },
      "file_extension": ".py",
      "mimetype": "text/x-python",
      "name": "python",
      "nbconvert_exporter": "python",
      "pygments_lexer": "ipython3",
      "version": "3.10.4"
    },
    "colab": {
      "provenance": [],
      "include_colab_link": true
    }
  },
  "nbformat": 4,
  "nbformat_minor": 5
}